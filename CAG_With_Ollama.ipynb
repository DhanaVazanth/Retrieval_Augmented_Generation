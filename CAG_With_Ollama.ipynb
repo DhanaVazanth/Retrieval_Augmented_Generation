{
 "cells": [
  {
   "cell_type": "markdown",
   "metadata": {},
   "source": [
    "CAG (Concept-Augmented Generation)\n",
    "--------------------------\n",
    "\n",
    "-   CAG enhances text generation by integrating concepts (structured knowledge) rather than just raw document retrieval. Instead of fetching exact passages like RAG, CAG pulls conceptual relationships, ontologies, or structured knowledge graphs to enrich responses."
   ]
  },
  {
   "cell_type": "markdown",
   "metadata": {},
   "source": [
    "🛠 How CAG Works\n",
    "----------------\n",
    "Concept Retrieval → Fetches relevant concepts from structured sources (e.g., Knowledge Graphs like DBpedia, Wikidata).\n",
    "\n",
    "Context Expansion → Maps related concepts and relationships.\n",
    "\n",
    "Augmented Generation → Uses the retrieved concepts to generate responses with deeper reasoning.\n",
    "\n",
    "Example:\n",
    "---------\n",
    "RAG: Finds a Wikipedia page about Tesla Motors.\n",
    "\n",
    "CAG: Retrieves the concepts of electric vehicles, lithium-ion batteries, sustainable energy, and Elon Musk’s involvement, forming a richer response.\n",
    "\n",
    "🔥 Why CAG?\n",
    "------------\n",
    "Ideal for domain-specific knowledge (e.g., legal, medical, financial AI).\n",
    "\n",
    "Helps with explainability and fact-based generation.\n",
    "\n",
    "More structured than RAG, reducing hallucinations."
   ]
  },
  {
   "cell_type": "markdown",
   "metadata": {},
   "source": [
    "<div align=\"center\">\n",
    "  <img src=\"https://adasci.org/wp-content/uploads/2024/06/retrieval_LM-scaled.jpg\" alt=\"Http cat\">\n",
    "</div>"
   ]
  },
  {
   "cell_type": "markdown",
   "metadata": {},
   "source": [
    "REQUIRED LIBRARIES\n",
    "--------------------------\n",
    "\n",
    "-   sparqlwrapper : Provide Knowledge base to generator llm model\n",
    "-   Ollama        : Generator model which generate described output\n",
    "\n",
    "PACKAGE INSTALLATION\n",
    "--------------------------\n",
    "\n",
    "-   pip install sparqlwrapper  \n",
    "-   pip install langchain_ollama"
   ]
  },
  {
   "cell_type": "code",
   "execution_count": 12,
   "metadata": {},
   "outputs": [],
   "source": [
    "from SPARQLWrapper import SPARQLWrapper"
   ]
  },
  {
   "cell_type": "code",
   "execution_count": 7,
   "metadata": {},
   "outputs": [],
   "source": [
    "from SPARQLWrapper import SPARQLWrapper, JSON\n",
    "\n",
    "def get_concepts(entity: str):\n",
    "    \"\"\"Fetch related concepts from Wikidata.\"\"\"\n",
    "    sparql = SPARQLWrapper(\"https://query.wikidata.org/sparql\")\n",
    "    \n",
    "    query = f\"\"\"\n",
    "    SELECT ?conceptLabel WHERE {{\n",
    "      ?entity rdfs:label \"{entity}\"@en.\n",
    "      ?entity wdt:P279|wdt:P31 ?concept.\n",
    "      SERVICE wikibase:label {{ bd:serviceParam wikibase:language \"en\". }}\n",
    "    }}\n",
    "    \"\"\"\n",
    "    \n",
    "    sparql.setQuery(query)\n",
    "    sparql.setReturnFormat(JSON)\n",
    "    results = sparql.query().convert()\n",
    "    \n",
    "    concepts = [result[\"conceptLabel\"][\"value\"] for result in results[\"results\"][\"bindings\"]]\n",
    "    return concepts  # Return top 5 concepts\n"
   ]
  },
  {
   "cell_type": "code",
   "execution_count": 8,
   "metadata": {},
   "outputs": [
    {
     "name": "stdout",
     "output_type": "stream",
     "text": [
      "['human', 'literary work', 'Wikimedia disambiguation page', 'single']\n"
     ]
    }
   ],
   "source": [
    "print(get_concepts(\"Elon Musk\"))\n"
   ]
  },
  {
   "cell_type": "code",
   "execution_count": 10,
   "metadata": {},
   "outputs": [],
   "source": [
    "from langchain_ollama.llms import OllamaLLM\n",
    "\n",
    "def generate_response(query: str):\n",
    "    \"\"\"Use CAG to generate an answer based on concepts.\"\"\"\n",
    "    concepts = get_concepts(query)\n",
    "    concept_text = \", \".join(concepts)\n",
    "    \n",
    "    prompt = f\"Using the following concepts: {concept_text}, generate a detailed answer to: {query}\"\n",
    "    \n",
    "    llm = OllamaLLM(model=\"llama3.2\")\n",
    "    response = llm.invoke(prompt)\n",
    "    \n",
    "    return response\n"
   ]
  },
  {
   "cell_type": "code",
   "execution_count": 11,
   "metadata": {},
   "outputs": [
    {
     "name": "stdout",
     "output_type": "stream",
     "text": [
      "Tesla, Inc. is an American multinational corporation that specializes in the production of electric vehicles (EVs), clean energy solutions, and sustainable energy storage products.\n",
      "\n",
      "**History**\n",
      "\n",
      "Tesla was founded on July 1, 2003, by Martin Eberhard and Marc Tarpenning in Palo Alto, California. The company's first product was the Tesla Roadster, an all-electric sports car that was designed to showcase the potential of electric vehicles. In 2004, Elon Musk, who would later become the CEO of SpaceX and other companies, invested $6.3 million in Tesla and became the company's chairman of the board.\n",
      "\n",
      "**Products**\n",
      "\n",
      "Tesla is known for its line of luxury electric vehicles, including:\n",
      "\n",
      "1. Model S: a full-size luxury sedan\n",
      "2. Model X: a full-size luxury SUV\n",
      "3. Model 3: a compact luxury sedan\n",
      "4. Model Y: a compact luxury SUV\n",
      "5. Cybertruck: an electric pickup truck\n",
      "\n",
      "Tesla also offers energy storage products, such as the Powerwall and Powerpack, which provide residential and commercial customers with solutions for storing excess energy generated by solar panels.\n",
      "\n",
      "**Technology**\n",
      "\n",
      "Tesla's vehicles are equipped with advanced technology features, including:\n",
      "\n",
      "1. Autopilot: a semi-autonomous driving system\n",
      "2. Supercharger network: a high-speed charging network that allows Tesla owners to charge their vehicles quickly and efficiently\n",
      "3. Advanced battery management systems: designed to optimize energy storage and reduce range anxiety\n",
      "\n",
      "Tesla also provides over-the-air software updates, which allow the company to continuously improve and update its vehicle's performance without the need for physical modifications.\n",
      "\n",
      "**Sustainability**\n",
      "\n",
      "Tesla is committed to sustainability and reducing carbon emissions. The company has set a goal of becoming carbon neutral by 2025, and it has made significant investments in renewable energy and sustainable technologies.\n",
      "\n",
      "1. SolarCity acquisition: Tesla acquired SolarCity, a solar panel manufacturer, in 2016.\n",
      "2. Energy storage products: Tesla's Powerwall and Powerpack products provide customers with solutions for storing excess energy generated by solar panels.\n",
      "3. Renewable energy investments: Tesla has invested heavily in renewable energy projects, including wind farms and solar parks.\n",
      "\n",
      "**Innovation**\n",
      "\n",
      "Tesla is known for its innovative approach to electric vehicles and clean energy solutions. The company has introduced several groundbreaking technologies, including:\n",
      "\n",
      "1. Ludicrous Mode: a high-performance driving mode that enhances acceleration and braking performance.\n",
      "2. Full Self-Driving (FSD) technology: an advanced autonomous driving system that aims to enable fully autonomous vehicles.\n",
      "\n",
      "**Challenges and Controversies**\n",
      "\n",
      "Tesla has faced several challenges and controversies over the years, including:\n",
      "\n",
      "1. Competition from established automakers\n",
      "2. Regulatory hurdles: Tesla has faced challenges in meeting regulatory requirements for electric vehicles, particularly in countries with strict emissions standards.\n",
      "3. Product recalls: Tesla has experienced several product recall situations, which have impacted customer confidence and reputation.\n",
      "\n",
      "**Conclusion**\n",
      "\n",
      "Tesla is a pioneering company that has transformed the automotive industry and paved the way for a sustainable energy future. With its innovative products, advanced technology features, and commitment to sustainability, Tesla continues to shape the future of electric vehicles and clean energy solutions.\n"
     ]
    }
   ],
   "source": [
    "print(generate_response(\"What is Tesla?\"))\n"
   ]
  },
  {
   "cell_type": "markdown",
   "metadata": {},
   "source": [
    "## 🌍 Major SPARQL Endpoints & Their Contexts\n",
    "\n",
    "| **SPARQL Endpoint** | **Data Source** | **What It Contains?** | **Endpoint URL** |\n",
    "|---------------------|----------------|----------------------|-----------------|\n",
    "| **Wikidata**       | Wikipedia, structured knowledge | Entities, relationships, concepts | [query.wikidata.org](https://query.wikidata.org/sparql) |\n",
    "| **DBpedia**        | Wikipedia (structured version) | Structured infobox data from Wikipedia | [dbpedia.org/sparql](https://dbpedia.org/sparql) |\n",
    "| **YAGO**           | Wikipedia, WordNet, GeoNames | Entity relationships, taxonomies | [yago-knowledge.org/sparql](https://yago-knowledge.org/sparql) |\n",
    "| **WordNet RDF**    | WordNet | Lexical concepts, synonyms, meanings | [wordnet-rdf.princeton.edu](https://wordnet-rdf.princeton.edu/sparql) |\n",
    "| **Europeana**      | European libraries, museums | Cultural heritage data | [sparql.europeana.eu](https://sparql.europeana.eu/) |\n",
    "| **LinkedGeoData**  | OpenStreetMap | Geospatial data, locations | [linkedgeodata.org/sparql](http://linkedgeodata.org/sparql) |\n",
    "| **BioPortal SPARQL** | Medical ontologies | Biomedical & clinical concepts | [sparql.bioontology.org](https://sparql.bioontology.org/) |\n",
    "| **UNIPROT SPARQL** | Protein database | Protein sequences, gene data | [sparql.uniprot.org](https://sparql.uniprot.org/sparql) |\n",
    "| **NASA SPARQL**    | Space data | Space missions, celestial bodies | [data.nasa.gov](https://data.nasa.gov/) |\n"
   ]
  },
  {
   "cell_type": "markdown",
   "metadata": {},
   "source": [
    "🌍 Dynamically Switching SPARQL Endpoints\n",
    "----------------------------------------\n",
    "-   We can create a function that allows us to dynamically switch between different SPARQL endpoints based on the type of data we need."
   ]
  },
  {
   "cell_type": "code",
   "execution_count": 18,
   "metadata": {},
   "outputs": [],
   "source": [
    "from SPARQLWrapper import SPARQLWrapper, JSON\n",
    "\n",
    "# List of available SPARQL endpoints\n",
    "SPARQL_ENDPOINTS = {\n",
    "    \"wikidata\": \"https://query.wikidata.org/sparql\",\n",
    "    \"dbpedia\": \"https://dbpedia.org/sparql\",\n",
    "    \"yago\": \"https://yago-knowledge.org/sparql\",\n",
    "    \"bioportal\": \"https://sparql.bioontology.org/\",\n",
    "    \"linkedGeoData\": \"http://linkedgeodata.org/sparql\"\n",
    "}\n",
    "\n",
    "def get_concepts(entity: str, source: str = \"wikidata\"):\n",
    "    \"\"\"Fetch related concepts from a dynamically selected SPARQL endpoint.\"\"\"\n",
    "    \n",
    "    if source not in SPARQL_ENDPOINTS:\n",
    "        raise ValueError(f\"❌ Error: Unknown SPARQL source '{source}'. Choose from {list(SPARQL_ENDPOINTS.keys())}\")\n",
    "\n",
    "    sparql = SPARQLWrapper(SPARQL_ENDPOINTS[source])\n",
    "\n",
    "    # Different query formats for different sources\n",
    "    if source == \"wikidata\":\n",
    "        query = f\"\"\"\n",
    "        SELECT ?conceptLabel WHERE {{\n",
    "          ?entity rdfs:label \"{entity}\"@en.\n",
    "          ?entity wdt:P279|wdt:P31 ?concept.\n",
    "          SERVICE wikibase:label {{ bd:serviceParam wikibase:language \"en\". }}\n",
    "        }}\n",
    "        LIMIT 5\n",
    "        \"\"\"\n",
    "    \n",
    "    elif source == \"dbpedia\":\n",
    "        query = f\"\"\"\n",
    "        SELECT ?concept WHERE {{\n",
    "          dbr:{entity} dbo:wikiPageWikiLink ?concept .\n",
    "        }}\n",
    "        LIMIT 5\n",
    "        \"\"\"\n",
    "    \n",
    "\n",
    "    else:\n",
    "        return f\"❌ No predefined query for {source} yet.\"\n",
    "\n",
    "    sparql.setQuery(query)\n",
    "    sparql.setReturnFormat(JSON)\n",
    "    results = sparql.query().convert()\n",
    "\n",
    "    concepts = [result[\"conceptLabel\"][\"value\"] if \"conceptLabel\" in result else result[\"concept\"][\"value\"]\n",
    "                for result in results[\"results\"][\"bindings\"]]\n",
    "\n",
    "    return concepts\n"
   ]
  },
  {
   "cell_type": "code",
   "execution_count": 19,
   "metadata": {},
   "outputs": [
    {
     "name": "stdout",
     "output_type": "stream",
     "text": [
      "🔹 Wikidata Concepts: ['Wikimedia disambiguation page', 'microarchitecture', 'rock band', 'business', 'enterprise']\n",
      "🔹 DBpedia Concepts: ['http://dbpedia.org/resource/Corral_Hollow', 'http://dbpedia.org/resource/Nikola_Tesla_(disambiguation)', 'http://dbpedia.org/resource/Tesla_coil', 'http://dbpedia.org/resource/2244_Tesla', 'http://dbpedia.org/resource/Nikola_Tesla']\n"
     ]
    }
   ],
   "source": [
    "# Get concepts from Wikidata\n",
    "print(\"🔹 Wikidata Concepts:\", get_concepts(\"Tesla\", \"wikidata\"))\n",
    "\n",
    "# Get concepts from DBpedia\n",
    "print(\"🔹 DBpedia Concepts:\", get_concepts(\"Tesla\", \"dbpedia\"))\n",
    "\n",
    "\n"
   ]
  },
  {
   "cell_type": "markdown",
   "metadata": {},
   "source": [
    "🔗 Combining Multiple Datasets\n",
    "--------------------------------\n",
    "-   Instead of querying just one SPARQL endpoint, we can query multiple endpoints and merge the results."
   ]
  },
  {
   "cell_type": "code",
   "execution_count": 20,
   "metadata": {},
   "outputs": [],
   "source": [
    "def get_concepts_multi(entity: str, sources=[\"wikidata\", \"dbpedia\"]):\n",
    "    \"\"\"Fetch related concepts from multiple SPARQL endpoints and merge results.\"\"\"\n",
    "    \n",
    "    all_concepts = set()  # Use a set to avoid duplicates\n",
    "    \n",
    "    for source in sources:\n",
    "        try:\n",
    "            concepts = get_concepts(entity, source)\n",
    "            if concepts:\n",
    "                all_concepts.update(concepts)\n",
    "        except Exception as e:\n",
    "            print(f\"⚠️ Error querying {source}: {str(e)}\")\n",
    "\n",
    "    return list(all_concepts)  # Convert set back to list\n"
   ]
  },
  {
   "cell_type": "code",
   "execution_count": 21,
   "metadata": {},
   "outputs": [
    {
     "name": "stdout",
     "output_type": "stream",
     "text": [
      "🔹 Combined Concepts: ['http://dbpedia.org/resource/Nikola_Tesla', 'http://dbpedia.org/resource/Corral_Hollow', 'rock band', 'business', 'http://dbpedia.org/resource/2244_Tesla', 'http://dbpedia.org/resource/Tesla_coil', 'enterprise', 'microarchitecture', 'Wikimedia disambiguation page', 'http://dbpedia.org/resource/Nikola_Tesla_(disambiguation)']\n"
     ]
    }
   ],
   "source": [
    "concepts = get_concepts_multi(\"Tesla\", sources=[\"wikidata\", \"dbpedia\"])\n",
    "print(\"🔹 Combined Concepts:\", concepts)\n"
   ]
  },
  {
   "cell_type": "markdown",
   "metadata": {},
   "source": [
    "🚀 Why This is Powerful?\n",
    "---------------------------\n",
    "-   ✅ More accurate knowledge by pulling data from multiple knowledge graphs.\n",
    "-   ✅ Reduces bias (some sources may have missing data).\n",
    "-   ✅ Handles diverse knowledge areas (medical, geography, etc.)."
   ]
  }
 ],
 "metadata": {
  "kernelspec": {
   "display_name": ".venv",
   "language": "python",
   "name": "python3"
  },
  "language_info": {
   "codemirror_mode": {
    "name": "ipython",
    "version": 3
   },
   "file_extension": ".py",
   "mimetype": "text/x-python",
   "name": "python",
   "nbconvert_exporter": "python",
   "pygments_lexer": "ipython3",
   "version": "3.10.11"
  }
 },
 "nbformat": 4,
 "nbformat_minor": 2
}
