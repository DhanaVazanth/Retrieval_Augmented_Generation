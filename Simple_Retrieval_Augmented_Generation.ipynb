{
 "cells": [
  {
   "cell_type": "markdown",
   "metadata": {},
   "source": [
    "<div align=\"center\">\n",
    "  <img src=\"https://i0.wp.com/flatteredwithflutter.com/wp-content/uploads/2024/05/maxresdefault.webp?resize=800%2C450&ssl=1\" alt=\"Http cat\">\n",
    "</div>\n"
   ]
  },
  {
   "cell_type": "markdown",
   "metadata": {},
   "source": [
    "REQUIRED LIBRARIES\n",
    "----------------------\n",
    "\n",
    "-   PyPDF2          : To read the content of PDF file\n",
    "-   Langchain       : An end to end frame work to build the RAG architecture\n",
    "-   FAISS           : A vector database to store the embeddings of pdf text data\n",
    "-   OLLAMA_LLM      : A open source llm model to do similarity search in your vector database \n",
    "\n",
    "\n",
    "INSTALLATION OF LIBRARY'S\n",
    "---------------------------\n",
    "\n",
    "-   pip install PyPDF2\n",
    "-   pip install -U langchain-community\n",
    "-   pip install faiss-cpu \n",
    "-   pip install -U langchain_ollama"
   ]
  },
  {
   "cell_type": "code",
   "execution_count": null,
   "metadata": {},
   "outputs": [],
   "source": [
    "from PyPDF2 import PdfReader #pip install PyPDF2 "
   ]
  },
  {
   "cell_type": "code",
   "execution_count": null,
   "metadata": {},
   "outputs": [],
   "source": [
    "pdf_read=PdfReader(r\"path\\to\\sample.pdf\")"
   ]
  },
  {
   "cell_type": "code",
   "execution_count": 28,
   "metadata": {},
   "outputs": [],
   "source": [
    "text = \"\"\n",
    "\n",
    "for i, page in enumerate(pdf_read.pages):\n",
    "    content = page.extract_text()\n",
    "    if content:\n",
    "        text += content"
   ]
  },
  {
   "cell_type": "code",
   "execution_count": 29,
   "metadata": {},
   "outputs": [
    {
     "data": {
      "text/plain": [
       "\"Python Intern Assignment     \\n \\nWe are excited to evaluate your skills with this practical assignment. This will test your proficiency in Python, backend dev elopment, database management, virtual \\nAndroid system creation, and basic networking concepts.  \\n \\nTask 1: Backend Development  \\n\\uf0b7 Create a Python -based API using  Flask  or Django . \\n\\uf0b7 The API should include the following endpoints:  \\n1. POST /add -app:  Add app details to the database (fields: app_name, version, description).  \\n2. GET /get -app/{id}:  Retrieve app details by ID.  \\n3. DELETE /delete -app/{id} : Remove an app by ID.  \\nDeliverables:  \\n\\uf0b7 The API codebase.  \\n\\uf0b7 A README.md  file explaining how to set up and run the API locally.  \\n \\nTask 2: Database Management  \\n\\uf0b7 Design a simple SQLite or PostgreSQL database to store app information (app_name, version, description).  \\n\\uf0b7 Integrate the database with the API developed in Task 1.  \\nDeliverables:  \\n\\uf0b7 The database schema file.  \\n\\uf0b7 Sample data to test the API.  \\n \\nTask 3: Virtual Android System Simulation  \\n\\uf0b7 Write a Python script that simulates a  virtual Android system  capable of running basi c tasks. The script should:  \\n1. Create a virtual Android environment using Python libraries like  QEMU  or Android Emulator Plugin . \\n2. Launch the virtual system and display a terminal or GUI interface.  \\n3. Install a sample app (e.g., an APK file) into the virtual system.  \\n4. Retrieve and log system information (e.g., OS version, device model, available memory).  \\nDeliverables:  \\n\\uf0b7 Python script(s) for setting up and managing the virtual Android system.  \\n\\uf0b7 A README.md  file explaining:  \\n\\uf0b7 How to run the script.  \\n\\uf0b7 How to install an app  on the virtual system.  \\n\\uf0b7 A summary of the system information logged.  \\n \\n Python Intern Assignment     \\n \\nTask 4: Basic Networking  \\n\\uf0b7 Write a Python script that connects the virtual Android system to a backend server . The script should:  \\n1. Establish a TCP or HTTP connection with the server .  \\n2. Send  mock data from the virtual Android system (e.g., device ID, system info) to the backend API created in Task 1.  \\n3. Receive and log the server's response.  \\nDeliverables:  \\n\\uf0b7 The networking script.  \\n\\uf0b7 A brief explanation of how the script works.  \\n \\nSubmission Guidelines : \\n\\uf0b7 Submit all code files in a single ZIP folder named  YourName_PythonInternAssignment.zip.  \\n\\uf0b7 Include a  README.md  file with instructions for running each task.  \\n\\uf0b7 Ensure your code is well -documented and follows best practices.  \\nDeadline:   2 Days  \\n \\nALL THE BEST !!  \""
      ]
     },
     "execution_count": 29,
     "metadata": {},
     "output_type": "execute_result"
    }
   ],
   "source": [
    "text"
   ]
  },
  {
   "cell_type": "code",
   "execution_count": 30,
   "metadata": {},
   "outputs": [
    {
     "data": {
      "text/plain": [
       "2536"
      ]
     },
     "execution_count": 30,
     "metadata": {},
     "output_type": "execute_result"
    }
   ],
   "source": [
    "len(text)"
   ]
  },
  {
   "cell_type": "code",
   "execution_count": 46,
   "metadata": {},
   "outputs": [
    {
     "data": {
      "text/plain": [
       "507"
      ]
     },
     "execution_count": 46,
     "metadata": {},
     "output_type": "execute_result"
    }
   ],
   "source": [
    "len(text)//5"
   ]
  },
  {
   "cell_type": "code",
   "execution_count": 44,
   "metadata": {},
   "outputs": [
    {
     "data": {
      "text/plain": [
       "253"
      ]
     },
     "execution_count": 44,
     "metadata": {},
     "output_type": "execute_result"
    }
   ],
   "source": [
    "len(text)//10"
   ]
  },
  {
   "cell_type": "code",
   "execution_count": null,
   "metadata": {},
   "outputs": [],
   "source": [
    "#pip install -U langchain-community"
   ]
  },
  {
   "cell_type": "code",
   "execution_count": null,
   "metadata": {},
   "outputs": [],
   "source": [
    "from langchain.text_splitter import CharacterTextSplitter\n",
    "\n",
    "splitter=CharacterTextSplitter(\n",
    "    separator=\"\\n\",\n",
    "    chunk_size=500,\n",
    "    chunk_overlap=200,\n",
    "    length_function=len\n",
    ")\n",
    "\n",
    "split_text=splitter.split_text(text)"
   ]
  },
  {
   "cell_type": "code",
   "execution_count": 32,
   "metadata": {},
   "outputs": [
    {
     "data": {
      "text/plain": [
       "['Python Intern Assignment     \\n \\nWe are excited to evaluate your skills with this practical assignment. This will test your proficiency in Python, backend dev elopment, database management, virtual \\nAndroid system creation, and basic networking concepts.  \\n \\nTask 1: Backend Development  \\n\\uf0b7 Create a Python -based API using  Flask  or Django . \\n\\uf0b7 The API should include the following endpoints:  \\n1. POST /add -app:  Add app details to the database (fields: app_name, version, description).',\n",
       " '\\uf0b7 The API should include the following endpoints:  \\n1. POST /add -app:  Add app details to the database (fields: app_name, version, description).  \\n2. GET /get -app/{id}:  Retrieve app details by ID.  \\n3. DELETE /delete -app/{id} : Remove an app by ID.  \\nDeliverables:  \\n\\uf0b7 The API codebase.  \\n\\uf0b7 A README.md  file explaining how to set up and run the API locally.  \\n \\nTask 2: Database Management',\n",
       " '3. DELETE /delete -app/{id} : Remove an app by ID.  \\nDeliverables:  \\n\\uf0b7 The API codebase.  \\n\\uf0b7 A README.md  file explaining how to set up and run the API locally.  \\n \\nTask 2: Database Management  \\n\\uf0b7 Design a simple SQLite or PostgreSQL database to store app information (app_name, version, description).  \\n\\uf0b7 Integrate the database with the API developed in Task 1.  \\nDeliverables:  \\n\\uf0b7 The database schema file.  \\n\\uf0b7 Sample data to test the API.  \\n \\nTask 3: Virtual Android System Simulation',\n",
       " '\\uf0b7 Integrate the database with the API developed in Task 1.  \\nDeliverables:  \\n\\uf0b7 The database schema file.  \\n\\uf0b7 Sample data to test the API.  \\n \\nTask 3: Virtual Android System Simulation  \\n\\uf0b7 Write a Python script that simulates a  virtual Android system  capable of running basi c tasks. The script should:  \\n1. Create a virtual Android environment using Python libraries like  QEMU  or Android Emulator Plugin . \\n2. Launch the virtual system and display a terminal or GUI interface.',\n",
       " '1. Create a virtual Android environment using Python libraries like  QEMU  or Android Emulator Plugin . \\n2. Launch the virtual system and display a terminal or GUI interface.  \\n3. Install a sample app (e.g., an APK file) into the virtual system.  \\n4. Retrieve and log system information (e.g., OS version, device model, available memory).  \\nDeliverables:  \\n\\uf0b7 Python script(s) for setting up and managing the virtual Android system.  \\n\\uf0b7 A README.md  file explaining:  \\n\\uf0b7 How to run the script.',\n",
       " 'Deliverables:  \\n\\uf0b7 Python script(s) for setting up and managing the virtual Android system.  \\n\\uf0b7 A README.md  file explaining:  \\n\\uf0b7 How to run the script.  \\n\\uf0b7 How to install an app  on the virtual system.  \\n\\uf0b7 A summary of the system information logged.  \\n \\n Python Intern Assignment     \\n \\nTask 4: Basic Networking  \\n\\uf0b7 Write a Python script that connects the virtual Android system to a backend server . The script should:  \\n1. Establish a TCP or HTTP connection with the server .',\n",
       " \"Task 4: Basic Networking  \\n\\uf0b7 Write a Python script that connects the virtual Android system to a backend server . The script should:  \\n1. Establish a TCP or HTTP connection with the server .  \\n2. Send  mock data from the virtual Android system (e.g., device ID, system info) to the backend API created in Task 1.  \\n3. Receive and log the server's response.  \\nDeliverables:  \\n\\uf0b7 The networking script.  \\n\\uf0b7 A brief explanation of how the script works.  \\n \\nSubmission Guidelines :\",\n",
       " \"3. Receive and log the server's response.  \\nDeliverables:  \\n\\uf0b7 The networking script.  \\n\\uf0b7 A brief explanation of how the script works.  \\n \\nSubmission Guidelines : \\n\\uf0b7 Submit all code files in a single ZIP folder named  YourName_PythonInternAssignment.zip.  \\n\\uf0b7 Include a  README.md  file with instructions for running each task.  \\n\\uf0b7 Ensure your code is well -documented and follows best practices.  \\nDeadline:   2 Days  \\n \\nALL THE BEST !!\"]"
      ]
     },
     "execution_count": 32,
     "metadata": {},
     "output_type": "execute_result"
    }
   ],
   "source": [
    "split_text"
   ]
  },
  {
   "cell_type": "code",
   "execution_count": 33,
   "metadata": {},
   "outputs": [],
   "source": [
    "#using ollama embeddings\n",
    "from langchain_ollama import OllamaEmbeddings #pip install -U langchain_ollama\n",
    "\n",
    "embed = OllamaEmbeddings(\n",
    "    model=\"nomic-embed-text\"\n",
    ")\n",
    "\n"
   ]
  },
  {
   "cell_type": "code",
   "execution_count": null,
   "metadata": {},
   "outputs": [],
   "source": [
    "vector = embed.embed_documents(split_text)  # Works for lists\n",
    "print(vector)\n"
   ]
  },
  {
   "cell_type": "code",
   "execution_count": 37,
   "metadata": {},
   "outputs": [],
   "source": [
    "#storing in vector database\n",
    "from langchain.vectorstores import FAISS #pip install faiss-cpu\n",
    "\n",
    "\n",
    "vectorstore = FAISS.from_texts(split_text, embed)"
   ]
  },
  {
   "cell_type": "code",
   "execution_count": null,
   "metadata": {},
   "outputs": [
    {
     "name": "stdout",
     "output_type": "stream",
     "text": [
      "Answer: There are at least 4 tasks mentioned in this document: \n",
      "\n",
      "1. Task 2: Database Management\n",
      "2. Task 3: Virtual Android System Simulation\n",
      "3. Task 4: Basic Networking\n",
      "4. (Implicitly) Task 5, which is related to the API codebase for removing an app by ID.\n",
      "\n",
      "Note that some of these tasks are subtasks within a larger task, but they are still counted as separate tasks.\n"
     ]
    }
   ],
   "source": [
    "from langchain.chains import RetrievalQA\n",
    "from langchain_ollama.llms import OllamaLLM ##pip install -U langchain_ollama\n",
    "\n",
    "# Initialize the LLM (using Ollama's local model)\n",
    "llm = OllamaLLM(model=\"llama3.2\")\n",
    "\n",
    "# Create a Question Answering Chain\n",
    "qa_chain = RetrievalQA.from_chain_type(llm, retriever=vectorstore.as_retriever())\n",
    "\n",
    "# Ask a question\n",
    "question = \"how many tasks were assigned in this document?\"\n",
    "answer = qa_chain.run(question)\n",
    "\n",
    "print(f\"Answer: {answer}\")"
   ]
  }
 ],
 "metadata": {
  "kernelspec": {
   "display_name": ".venv",
   "language": "python",
   "name": "python3"
  },
  "language_info": {
   "codemirror_mode": {
    "name": "ipython",
    "version": 3
   },
   "file_extension": ".py",
   "mimetype": "text/x-python",
   "name": "python",
   "nbconvert_exporter": "python",
   "pygments_lexer": "ipython3",
   "version": "3.10.11"
  }
 },
 "nbformat": 4,
 "nbformat_minor": 2
}
